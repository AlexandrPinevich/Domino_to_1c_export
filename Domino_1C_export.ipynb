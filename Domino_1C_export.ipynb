{
  "cells": [
    {
      "cell_type": "markdown",
      "metadata": {
        "id": "view-in-github",
        "colab_type": "text"
      },
      "source": [
        "<a href=\"https://colab.research.google.com/github/AlexandrPinevich/Domino_to_1c_export/blob/main/Domino_1C_export.ipynb\" target=\"_parent\"><img src=\"https://colab.research.google.com/assets/colab-badge.svg\" alt=\"Open In Colab\"/></a>"
      ]
    },
    {
      "cell_type": "markdown",
      "metadata": {
        "id": "YgesjLMBFOou"
      },
      "source": [
        "## Эта штука должна парсить csv и исходники и рожать из них данные на вход в 1С для ввода начальных остатков. Файлы берутся из гугл диска. Для целей консистентности данных сильно желательно все файлы выгружать из Домина одним днем и одним пакетом"
      ]
    },
    {
      "cell_type": "code",
      "execution_count": null,
      "metadata": {
        "colab": {
          "base_uri": "https://localhost:8080/"
        },
        "id": "w--yulQ0uOwr",
        "outputId": "e68fa298-cf99-407a-e769-d2c447548ea2"
      },
      "outputs": [
        {
          "output_type": "stream",
          "name": "stdout",
          "text": [
            "Looking in indexes: https://pypi.org/simple, https://us-python.pkg.dev/colab-wheels/public/simple/\n",
            "Collecting xlsxwriter\n",
            "  Downloading XlsxWriter-3.0.9-py3-none-any.whl (152 kB)\n",
            "\u001b[2K     \u001b[90m━━━━━━━━━━━━━━━━━━━━━━━━━━━━━━━━━━━━━━━\u001b[0m \u001b[32m152.8/152.8 KB\u001b[0m \u001b[31m2.8 MB/s\u001b[0m eta \u001b[36m0:00:00\u001b[0m\n",
            "\u001b[?25hInstalling collected packages: xlsxwriter\n",
            "Successfully installed xlsxwriter-3.0.9\n"
          ]
        }
      ],
      "source": [
        "import pandas as pd            #БЕЗ ЭТОГО РАБОТАТЬ НЕ БУДЕТ!!!\n",
        "from datetime import datetime  #НАДО ЗАПУСКАТЬ ПЕРЕД ОБРАБОТКОЙ\n",
        "import pytz                    #ВООБЩЕ ВСЕ ПО ОЧЕРЕДИ НАДО ЗАПУСКАТЬ\n",
        "!pip install xlsxwriter        #ИНАЧЕ ЭКСЕЛЬ НЕ ПИШЕТСЯ ИЗ-ЗА КОДИРОВКИ"
      ]
    },
    {
      "cell_type": "markdown",
      "metadata": {
        "id": "6CD304lqmzt4"
      },
      "source": [
        "## Блок считывания файлов. Папка Input\n",
        "\n",
        "\n",
        "\n",
        "\n",
        "\n",
        "\n"
      ]
    },
    {
      "cell_type": "code",
      "execution_count": null,
      "metadata": {
        "id": "sb8LITeDmi0f"
      },
      "outputs": [],
      "source": [
        "# Это читает ИСХОДНИК текущий партии\n",
        "# предобработанный, но без ручной колонки партий\n",
        "ishodnic_batch =\\\n",
        " \"/content/drive/MyDrive/Colab Notebooks/Input/!!!!Исходник текущий партии.xlsx\"\n",
        "batch=pd.read_excel(ishodnic_batch, dtype={'ТОВАР': object}\n",
        "                    , header = 4, skipfooter = 1, keep_default_na=True)\n",
        "batch.rename(columns={'ТОВАР': 'Партия'}, inplace=True)\n",
        "batch.insert(0,'ТОВАР','')\n",
        "batch['ТОВАР'] = batch['Партия'].astype('Float64').astype('Int64')\n",
        "batch.insert(2,'Номенклатура','')\n",
        "batch['Номенклатура'] = 'ДМ-' + batch['ТОВАР'].apply('{:0>8}'.format).astype(str)\n",
        "batch.dropna(subset=['ИСХ_КОЛИЧ'], inplace = True)\n",
        "# Дропает строки без остатка насовсем"
      ]
    },
    {
      "cell_type": "code",
      "execution_count": null,
      "metadata": {
        "id": "Fbz9TbYjM2bN"
      },
      "outputs": [],
      "source": [
        "# Это читает ИСХОДНИК текущий уже экселем предобработанный\n",
        "ishodnic =\\\n",
        " \"/content/drive/MyDrive/Colab Notebooks/Input/!!!!Исходник текущий.xlsx\"\n",
        "df2=pd.read_excel(ishodnic, header = 4, skipfooter = 1, keep_default_na=True)\n",
        "df2.insert(1,'Номенклатура','')\n",
        "df2['Номенклатура'] = 'ДМ-' + df2['ТОВАР'].apply('{:0>8}'.format).astype(str)"
      ]
    },
    {
      "cell_type": "code",
      "execution_count": null,
      "metadata": {
        "id": "lfXKsFfbTQVy"
      },
      "outputs": [],
      "source": [
        "# Это читает файл ###Справочники\n",
        "regs = \"/content/drive/MyDrive/Colab Notebooks/Input/###Справочники.xlsx\"\n",
        "unitsDf=pd.read_excel(regs, sheet_name='units', keep_default_na=True\\\n",
        "                          , dtype={'КодЕд': object})\n",
        "managersDf=pd.read_excel(regs, sheet_name='managers', keep_default_na=True)\n",
        "warehousesDf=pd.read_excel(regs, sheet_name='warehouses', keep_default_na=True)\n",
        "batch_statusDf=pd.read_excel(regs, sheet_name='batch_status'\\\n",
        "                             , keep_default_na=True)\n",
        "suppliersDf=pd.read_excel(regs, sheet_name='suppliers', keep_default_na=True\\\n",
        "                          , dtype={'Поставщик_Номер_в_Домино': object})"
      ]
    },
    {
      "cell_type": "code",
      "execution_count": null,
      "metadata": {
        "id": "UfUe6_j44Oxr"
      },
      "outputs": [],
      "source": [
        "# Это читает BARCODES.CSV сырой, как выпал из отчета Домино\n",
        "# keep_default_na = 1/0 ПЕРЕКЛЮЧАТЕЛЬ ВЫВОДА NaN\n",
        "barcodes = \"/content/drive/MyDrive/Colab Notebooks/Input/barcodes.csv\"\n",
        "df1=pd.read_csv(barcodes, encoding='Windows-1251',delimiter = \";\",header = 0,\\\n",
        "    keep_default_na=True\\\n",
        "    ,names=['ТОВАР','Штрихкод','ТОВАР2','НАИМЕНОВАНИЕ_ДЛИННОЕ',\n",
        "          'АРТИКУЛ_ДЛИННЫЙ','GrNum','Group','SrgNum','SubGroupeAsIs',\n",
        "          'supplierCode','supplier','countryCode','country'])\n",
        "df1.insert(1,'Номенклатура','')\n",
        "df1['Номенклатура'] = 'ДМ-' + df1['ТОВАР'].apply('{:0>8}'.format).astype(str)\n",
        "df1['SubGroupe'] = df1['SubGroupeAsIs'].str.upper()"
      ]
    },
    {
      "cell_type": "code",
      "execution_count": null,
      "metadata": {
        "id": "ZANy-leO1ARe"
      },
      "outputs": [],
      "source": [
        "# Это читает SKU из 1С нужно чтобы только новые карточки можно было добавить\n",
        "# или страрые удалить\n",
        "f = \"/content/drive/MyDrive/Colab Notebooks/Input/SKU from 1C.xlsx\"\n",
        "from1c=pd.read_excel(f, header = 0, skipfooter = 0, keep_default_na=True)\n",
        "from1c['Номенклатура'] ='ДМ-' + from1c['Код Домино'].apply('{:0>8}'.format).astype(str)"
      ]
    },
    {
      "cell_type": "code",
      "execution_count": null,
      "metadata": {
        "id": "kl0yPbCByiWP"
      },
      "outputs": [],
      "source": [
        "# Это читает Категории из 1С \n",
        "f = \"/content/drive/MyDrive/Colab Notebooks/Input/Категории из 1С.xlsx\"\n",
        "catalog1c=pd.read_excel(f, header = 0, skipfooter = 0, keep_default_na=True)\n",
        "catalog1c['SubGroupe'] = catalog1c['Подгруппа']"
      ]
    },
    {
      "cell_type": "markdown",
      "metadata": {
        "id": "2nBWD1jN3fwj"
      },
      "source": [
        "## Блок обработки"
      ]
    },
    {
      "cell_type": "code",
      "execution_count": null,
      "metadata": {
        "id": "-1hcfBB_AzDV"
      },
      "outputs": [],
      "source": [
        "# Фрейм BarNoDup Убирает дубликаты строк из df1 - BARCODES.CSV по коду,\n",
        "# нужно для корректного джойна с исходником\n",
        "BarNoDup = df1.copy(deep=True).drop_duplicates(subset=['ТОВАР'])"
      ]
    },
    {
      "cell_type": "code",
      "execution_count": null,
      "metadata": {
        "id": "Bup5qnn_sYSF"
      },
      "outputs": [],
      "source": [
        "# Фрейм BarcodeExport Забираем из таблицы с штрихкодами 2 колонки\n",
        "# в новый датафрейм BarcodeExport для последующей выгрузки\n",
        "BarcodeExport = df1[['Номенклатура', 'Штрихкод']].copy(deep=True)\n",
        "BarcodeExport = BarcodeExport.merge(df2['Номенклатура'], how='inner')\n",
        "# Оставить только совпавшие c исходником строки,\n",
        "# Нюансик, строки без штрихкода дропаются тоже how='inner'                                                                   "
      ]
    },
    {
      "cell_type": "code",
      "execution_count": null,
      "metadata": {
        "id": "-5KMhQfhl7pH"
      },
      "outputs": [],
      "source": [
        "# Фрейм skuDf копирует исходник чтобы избежать возможного конфликта\n",
        "# последовательности загрузки, в нем же добавляем колонки, кот. нужны на импорт\n",
        "# а не надо здесь ешё наличие штрихкода в домине проверить к этим карточкам?\n",
        "skuDf = df2.copy(deep=True)\n",
        "skuDf = skuDf\\\n",
        "    .merge(BarNoDup[['НАИМЕНОВАНИЕ_ДЛИННОЕ','Номенклатура']]\\\n",
        "           , on='Номенклатура', how='left')\\\n",
        "    .merge(BarNoDup[['АРТИКУЛ_ДЛИННЫЙ','Номенклатура']]\\\n",
        "           , on='Номенклатура', how='left')\\\n",
        "    .merge(BarNoDup[['SubGroupe','Номенклатура']]\\\n",
        "           , on='Номенклатура', how='left')\\\n",
        "    .merge(unitsDf[['КодЕд','ЕИ']], on='ЕИ', how='left')\\\n",
        "    .merge(suppliersDf[['Поставщик_Имя','ПОСТАВЩИК']]\\\n",
        "           , on='ПОСТАВЩИК', how='left')\\\n",
        "    .merge(managersDf[['Мен1С','МЕНЕДЖЕР']], on='МЕНЕДЖЕР', how='left')\\\n",
        "    .merge(catalog1c, left_on='SubGroupe', right_on='SubGroupe', how='left')\n",
        "\n",
        "skuDf.insert(36,'Наименование полное','')\n",
        "skuDf['Наименование полное'] = skuDf['НАИМЕНОВАНИЕ_ДЛИННОЕ']\n",
        "skuDf['Направление деятельности'] = 'Основное направление'\n",
        "skuDf['Использовать партии'] = 'Да'\n",
        "skuDf['Обязательное заполнение партий'] = 'Да'\n",
        "skuDf['Нижняя граница остатков'] = skuDf['МИН'].abs()\n",
        "skuDf['Верхняя граница остатков'] = skuDf['УП'].abs()"
      ]
    },
    {
      "cell_type": "code",
      "execution_count": null,
      "metadata": {
        "id": "J2-AiAxJuLnf"
      },
      "outputs": [],
      "source": [
        "# Фрейм SKUexport Забираем из skuDf нужные колонки и переименовываем \n",
        "# для последующей выгрузки в файл\n",
        "SKUexport =skuDf[['Номенклатура', 'НАИМЕНОВАНИЕ_ДЛИННОЕ',\n",
        "       'Наименование полное','АРТИКУЛ_ДЛИННЫЙ', 'SubGroupe', 'КодЕд',\n",
        "       'Поставщик_Имя', 'Тип номенклатуры по умолчанию', 'Вид ставки НДС',\n",
        "       'Способ списания', 'Счет учета запасов', 'Счет учета затрат',\n",
        "       'Способ пополнения', 'Вид маркировки', 'Вид маркируемой продукции ИС МП',\n",
        "       'Обувная продукция', 'Признак предмета расчета',\n",
        "       'Направление деятельности', 'Использовать партии',\n",
        "       'Обязательное заполнение партий', 'Нижняя граница остатков',\n",
        "       'Верхняя граница остатков']].copy(deep=True)\n",
        "#  'Ценовая группа', # в будущем может пригодиться\n",
        "SKUexport.rename(columns={'НАИМЕНОВАНИЕ_ДЛИННОЕ' : 'Наименование'\n",
        "                        ,'АРТИКУЛ_ДЛИННЫЙ' : 'Артикул'\n",
        "                        ,'SubGroupe' : 'Категория'\n",
        "                        ,'Тип номенклатуры по умолчанию' : 'ТипНоменклатуры'\n",
        "                        ,'Способ списания' : 'МетодОценки'\n",
        "                        ,'КодЕд' : 'Единица измерения'\n",
        "                        ,'Обязательное заполнение партий' : 'ПроверятьЗаполнениеПартий'\n",
        "                        ,'Вид маркируемой продукции ИС МП' : 'ВидПродукцииИС'\n",
        "                        ,'Поставщик_Имя' : 'Поставщик'\n",
        "                        },inplace=True)\n",
        "SKUexport = SKUexport.copy(deep=True)"
      ]
    },
    {
      "cell_type": "code",
      "execution_count": null,
      "metadata": {
        "id": "pWUxejtPp0C4"
      },
      "outputs": [],
      "source": [
        "# Фрейм SKUexportAll (вся номенклатура из исходника)\n",
        "# Фрейм SKUexportNew (номенклатуры нет в 1с, но есть в исходнике)\n",
        "# Фрейм SKUexportOld (номенклатуры нет в исходнике, но есть в 1с)\n",
        "SKUexportAll = SKUexport.copy(deep=True)\n",
        "SKUexportAll.rename(columns={'Номенклатура': 'Код'}, inplace=True)\n",
        "\n",
        "SKUexportNew = SKUexport.copy(deep=True)\n",
        "SKUexportNew = SKUexportNew.merge(from1c[['Код','Номенклатура']], on='Номенклатура', how='left')\n",
        "SKUexportNew = SKUexportNew[SKUexportNew['Код'].isna()] \n",
        "SKUexportNew.drop(columns=['Код'], inplace= True) # все равно пустая\n",
        "# тут NaN по коду это строки с новыми карточками, вытащим их как раз\n",
        "SKUexportNew.rename(columns={'Номенклатура': 'Код'}, inplace=True)\n",
        " \n",
        "SKUexportOld = SKUexport.copy(deep=True)\n",
        "SKUexportOld = SKUexport\\\n",
        "    .merge(from1c[['Код','Номенклатура']], on='Номенклатура', how='right')\\\n",
        "    .merge(BarNoDup[['SubGroupe','Номенклатура']], on='Номенклатура',how='left')\n",
        "SKUexportOld['ТОВАР'] = SKUexportOld['Код'].str[3:].astype('Int64') #код домино\n",
        "SKUexportOld = SKUexportOld[SKUexportOld['SubGroupe'].notna()]#оставить тестовый\n",
        "SKUexportOld = SKUexportOld[SKUexportOld['Наименование'].isna()]\n",
        "SKUexportOld = SKUexportOld[['Номенклатура','SubGroupe']]\n",
        "SKUexportOld.rename(columns={'Номенклатура': 'Код'}, inplace=True)\n",
        "# Все коды из 1с, тут NaN по наименованию это то, что в исходнике не нашлось\n",
        "# выдает просто список кодов. Не убить тестовые раз. Можно достать из\n",
        "# баркодов новую группу и заменить, не удалять их \n",
        "# merge изначально не работал из-за разного столбца \"номенклатура\"\n",
        "# из домино и из 1с, кодировка?\n",
        "\n",
        "# Переименовать Номенклатуру в Код для 1с пришлось после, костыль"
      ]
    },
    {
      "cell_type": "code",
      "execution_count": null,
      "metadata": {
        "id": "yI7ATIjAN0Lw"
      },
      "outputs": [],
      "source": [
        "# Фрейм BarcodeExportNew только штрихкода к новым карточкам\n",
        "# Проверять наличие уже их в 1с тогда надо бы сразу\n",
        "BarcodeExportNew = df1[['Номенклатура', 'Штрихкод']].copy(deep=True)\n",
        "BarcodeExportNew.rename(columns={'Номенклатура': 'Код'}, inplace=True)\n",
        "BarcodeExportNew = BarcodeExportNew.merge(SKUexportNew['Код']\\\n",
        "                                          , how='inner')\n",
        "BarcodeExportNew.rename(columns={'Код': 'Номенклатура'}, inplace=True)\n",
        "# Оставить только совпавшие SKUexportNew строки, новый товар\n",
        "# Нюансик, строки без штрихкода дропаются тоже how='inner'                                                                   \n"
      ]
    },
    {
      "cell_type": "code",
      "execution_count": null,
      "metadata": {
        "id": "QNKY7DNJkXlm"
      },
      "outputs": [],
      "source": [
        "# Фрейм PriceExport под штатную загрузку розничной цены и менеджера\n",
        "PriceExport = skuDf[['Штрихкод', 'ЦЕНА(ПР)','Мен1С']].copy(deep=True)\n",
        "PriceExport['Штрихкод'] =  PriceExport['Штрихкод'].astype(str)"
      ]
    },
    {
      "cell_type": "code",
      "source": [
        "# Фрейм партии номенклатуры\n",
        "batchExport = batch[['Номенклатура', 'Партия',\n",
        "                     'ПОСТАВЩИК', 'ДОГ']].copy(deep=True)\n",
        "batchExport = batchExport\\\n",
        "    .merge(batch_statusDf[['СтатусОплаты1С','ДОГ']], on='ДОГ', how='left')\\\n",
        "    .merge(suppliersDf[['Поставщик_Статус_НДС','ПОСТАВЩИК']]\\\n",
        "                        , on='ПОСТАВЩИК', how='left')\\\n",
        "    .merge(suppliersDf[['Поставщик_Имя','ПОСТАВЩИК']]\\\n",
        "                        , on='ПОСТАВЩИК', how='left')\n",
        "batchExport['Наименование'] = batchExport['Партия'].astype(str)\n",
        "batchExport['Статус'] = batchExport['СтатусОплаты1С']\n",
        "batchExport['Владелец партии'] =batchExport['Поставщик_Имя']\n",
        "batchExport['Налогообложение'] =batchExport['Поставщик_Статус_НДС']\n",
        "\n",
        "batchExport = batchExport[['Номенклатура','Наименование','Статус', \n",
        "                            'Владелец партии','Налогообложение',]]"
      ],
      "metadata": {
        "id": "g7BCmEHs7a18"
      },
      "execution_count": null,
      "outputs": []
    },
    {
      "cell_type": "code",
      "source": [
        "# Фрейм bdfExport остатки по партиям\n",
        "# Комиссия в куче с остальным по ходу (отдельно?)\n",
        "bdf = batch.copy(deep=True)\n",
        "\n",
        "input_rows = bdf.shape[0]\n",
        "input_qtt = bdf['ИСХ_КОЛИЧ'].sum()\n",
        "input_sum = bdf['СебестРуб.3'].sum()\n",
        "\n",
        "bdf = bdf\\\n",
        "    .merge(BarNoDup[['Штрихкод','Номенклатура']]\\\n",
        "           , on='Номенклатура', how='left')\\\n",
        "    .merge(BarNoDup[['SubGroupe','Номенклатура']]\\\n",
        "           , on='Номенклатура', how='left')\\\n",
        "    .merge(suppliersDf[['Поставщик_Имя','ПОСТАВЩИК']]\\\n",
        "           , on='ПОСТАВЩИК', how='left')\\\n",
        "    .merge(batch_statusDf[['ВидОперации','ДОГ']]\\\n",
        "           , on='ДОГ', how='left')    \n",
        "\n",
        "bdf = bdf.sort_values(by=['ВидОперации'])\n",
        "bdf['Контрагент'] = bdf['Поставщик_Имя']\n",
        "\n",
        "bdf['Договор'] = 'Основной договор'   \n",
        "bdf[['1эт остаток', '2эт остаток','скл1 остаток', 'б/н остаток',\n",
        "           'брак остаток', 'ИСХ_КОЛИЧ','СебестРуб.3']] = bdf[['1эт остаток', \n",
        "           '2эт остаток','скл1 остаток', 'б/н остаток',\n",
        "           'брак остаток', 'ИСХ_КОЛИЧ','СебестРуб.3']].fillna(0)    \n",
        "\n",
        "bdf['хозу остаток'] =  bdf['ИСХ_КОЛИЧ'] - bdf['1эт остаток']\\\n",
        "                     - bdf['2эт остаток'] - bdf['скл1 остаток']\\\n",
        "                     - bdf['б/н остаток'] - bdf['брак остаток']  \n",
        "bdf['Себестоимость'] = bdf['СебестРуб.3'] / bdf['ИСХ_КОЛИЧ']\n",
        "\n",
        "serv_rows = bdf[bdf['ГРУППА'] == '!!УСЛУГИ'].index.value_counts().sum()\n",
        "serv_qtt = bdf[bdf['ГРУППА'] == '!!УСЛУГИ']['ИСХ_КОЛИЧ'].sum() \n",
        "serv_sum = bdf[bdf['ГРУППА'] == '!!УСЛУГИ']['СебестРуб.3'].sum()\n",
        "# У услуг нет остатка\n",
        "\n",
        "bdf.drop(bdf[ (bdf['ГРУППА']  == '!!УСЛУГИ') ].index, inplace=True)\n",
        "\n",
        "# тут мы сцепляем остатки по подразделениям в одну таблицу\n",
        "batchSum = pd.DataFrame()\n",
        "storage_domino = warehousesDf['Отдел'].values\n",
        "storage_1c = warehousesDf['СтруктурнаяЕдиница'].values\n",
        "i = 0\n",
        "z = 0\n",
        "for x in storage_domino:\n",
        "    # print('step ', i) # отладочное\n",
        "    # print('x=',x)\n",
        "    # print(storage_1c[i])\n",
        "    bdfTmp = bdf[bdf[x] != 0].copy()\n",
        "    bdfTmp['СтруктурнаяЕдиница'] = storage_1c[i] #Склад 1c\n",
        "    bdfTmp['Количество'] = bdfTmp[x]\n",
        "    bdfTmp['СуммаРасчетов'] = bdfTmp['Количество'] * bdfTmp['Себестоимость']\n",
        "    z = z + bdfTmp.shape[0]\n",
        "    # print(bdfTmp.shape[0], 'rows')\n",
        "    # print(z, 'rowsSum')\n",
        "    batchSum = pd.concat([batchSum, bdfTmp[:1]], ignore_index= True) ######## по одной строке для теста\n",
        "    i = i + 1\n",
        "\n",
        "output_rows = batchSum.shape[0]\n",
        "output_qtt = batchSum['Количество'].sum()\n",
        "output_sum = batchSum['СуммаРасчетов'].sum()\n",
        "\n",
        "\n",
        "check = pd.DataFrame({'Rows': [input_rows, serv_rows, output_rows],\n",
        "                     'quantity': [input_qtt, serv_qtt, output_qtt],\n",
        "                     'sum': [input_sum, serv_sum, output_sum]\n",
        "                      },index=['Input', 'Service', 'Output'])\n",
        "\n",
        "check.loc['Check (rows is OK)'] = check.loc['Output'] -\\\n",
        "                              (check.loc['Input'] - check.loc['Service'])\n",
        "\n",
        "bdfExport = batchSum[['Договор', 'Контрагент', 'ВидОперации', 'Количество',\n",
        "              'Номенклатура', 'Партия', 'СтруктурнаяЕдиница', 'Себестоимость',\n",
        "              'СуммаРасчетов']].copy()\n",
        "    "
      ],
      "metadata": {
        "id": "BVLDGODBtdlB"
      },
      "execution_count": null,
      "outputs": []
    },
    {
      "cell_type": "code",
      "source": [
        "bdfExport"
      ],
      "metadata": {
        "colab": {
          "base_uri": "https://localhost:8080/",
          "height": 237
        },
        "id": "2U3yJbJ8ufVN",
        "outputId": "01d267d0-8cae-4dc9-aede-05ff8c0f7f68"
      },
      "execution_count": null,
      "outputs": [
        {
          "output_type": "execute_result",
          "data": {
            "text/plain": [
              "            Договор             Контрагент        ВидОперации  Количество  \\\n",
              "0  Основной договор               ТЕКСПРОМ  Прием на комиссию         1.0   \n",
              "1  Основной договор  ГЛОБОЛЬ ЧИСТАЯ ПОБЕДА  Прием на комиссию        -1.0   \n",
              "2  Основной договор         МАСТЕР КОНТАКТ                NaN         1.0   \n",
              "3  Основной договор            ПРОФСКАРЛЕТ                NaN         1.0   \n",
              "4  Основной договор                    ТДК                NaN         1.0   \n",
              "5  Основной договор            ВЕЛЕС ГРУПП                NaN        -1.0   \n",
              "\n",
              "  Номенклатура      Партия СтруктурнаяЕдиница  Себестоимость  СуммаРасчетов  \n",
              "0  ДМ-00220770  220770.004              Склад        1300.00        1300.00  \n",
              "1  ДМ-00249883  249883.002       Торговый Зал          19.68         -19.68  \n",
              "2  ДМ-00319454  319454.002         Склад Брак         282.70         282.70  \n",
              "3  ДМ-00334528  334528.001      Склад Приемка        2895.76        2895.76  \n",
              "4  ДМ-00174864  174864.007      Склад Приемка          17.72          17.72  \n",
              "5  ДМ-00334849  334849.004      Склад Приемка        1259.76       -1259.76  "
            ],
            "text/html": [
              "\n",
              "  <div id=\"df-1dbb16d0-65f4-4b82-a503-0852b73ed5b4\">\n",
              "    <div class=\"colab-df-container\">\n",
              "      <div>\n",
              "<style scoped>\n",
              "    .dataframe tbody tr th:only-of-type {\n",
              "        vertical-align: middle;\n",
              "    }\n",
              "\n",
              "    .dataframe tbody tr th {\n",
              "        vertical-align: top;\n",
              "    }\n",
              "\n",
              "    .dataframe thead th {\n",
              "        text-align: right;\n",
              "    }\n",
              "</style>\n",
              "<table border=\"1\" class=\"dataframe\">\n",
              "  <thead>\n",
              "    <tr style=\"text-align: right;\">\n",
              "      <th></th>\n",
              "      <th>Договор</th>\n",
              "      <th>Контрагент</th>\n",
              "      <th>ВидОперации</th>\n",
              "      <th>Количество</th>\n",
              "      <th>Номенклатура</th>\n",
              "      <th>Партия</th>\n",
              "      <th>СтруктурнаяЕдиница</th>\n",
              "      <th>Себестоимость</th>\n",
              "      <th>СуммаРасчетов</th>\n",
              "    </tr>\n",
              "  </thead>\n",
              "  <tbody>\n",
              "    <tr>\n",
              "      <th>0</th>\n",
              "      <td>Основной договор</td>\n",
              "      <td>ТЕКСПРОМ</td>\n",
              "      <td>Прием на комиссию</td>\n",
              "      <td>1.0</td>\n",
              "      <td>ДМ-00220770</td>\n",
              "      <td>220770.004</td>\n",
              "      <td>Склад</td>\n",
              "      <td>1300.00</td>\n",
              "      <td>1300.00</td>\n",
              "    </tr>\n",
              "    <tr>\n",
              "      <th>1</th>\n",
              "      <td>Основной договор</td>\n",
              "      <td>ГЛОБОЛЬ ЧИСТАЯ ПОБЕДА</td>\n",
              "      <td>Прием на комиссию</td>\n",
              "      <td>-1.0</td>\n",
              "      <td>ДМ-00249883</td>\n",
              "      <td>249883.002</td>\n",
              "      <td>Торговый Зал</td>\n",
              "      <td>19.68</td>\n",
              "      <td>-19.68</td>\n",
              "    </tr>\n",
              "    <tr>\n",
              "      <th>2</th>\n",
              "      <td>Основной договор</td>\n",
              "      <td>МАСТЕР КОНТАКТ</td>\n",
              "      <td>NaN</td>\n",
              "      <td>1.0</td>\n",
              "      <td>ДМ-00319454</td>\n",
              "      <td>319454.002</td>\n",
              "      <td>Склад Брак</td>\n",
              "      <td>282.70</td>\n",
              "      <td>282.70</td>\n",
              "    </tr>\n",
              "    <tr>\n",
              "      <th>3</th>\n",
              "      <td>Основной договор</td>\n",
              "      <td>ПРОФСКАРЛЕТ</td>\n",
              "      <td>NaN</td>\n",
              "      <td>1.0</td>\n",
              "      <td>ДМ-00334528</td>\n",
              "      <td>334528.001</td>\n",
              "      <td>Склад Приемка</td>\n",
              "      <td>2895.76</td>\n",
              "      <td>2895.76</td>\n",
              "    </tr>\n",
              "    <tr>\n",
              "      <th>4</th>\n",
              "      <td>Основной договор</td>\n",
              "      <td>ТДК</td>\n",
              "      <td>NaN</td>\n",
              "      <td>1.0</td>\n",
              "      <td>ДМ-00174864</td>\n",
              "      <td>174864.007</td>\n",
              "      <td>Склад Приемка</td>\n",
              "      <td>17.72</td>\n",
              "      <td>17.72</td>\n",
              "    </tr>\n",
              "    <tr>\n",
              "      <th>5</th>\n",
              "      <td>Основной договор</td>\n",
              "      <td>ВЕЛЕС ГРУПП</td>\n",
              "      <td>NaN</td>\n",
              "      <td>-1.0</td>\n",
              "      <td>ДМ-00334849</td>\n",
              "      <td>334849.004</td>\n",
              "      <td>Склад Приемка</td>\n",
              "      <td>1259.76</td>\n",
              "      <td>-1259.76</td>\n",
              "    </tr>\n",
              "  </tbody>\n",
              "</table>\n",
              "</div>\n",
              "      <button class=\"colab-df-convert\" onclick=\"convertToInteractive('df-1dbb16d0-65f4-4b82-a503-0852b73ed5b4')\"\n",
              "              title=\"Convert this dataframe to an interactive table.\"\n",
              "              style=\"display:none;\">\n",
              "        \n",
              "  <svg xmlns=\"http://www.w3.org/2000/svg\" height=\"24px\"viewBox=\"0 0 24 24\"\n",
              "       width=\"24px\">\n",
              "    <path d=\"M0 0h24v24H0V0z\" fill=\"none\"/>\n",
              "    <path d=\"M18.56 5.44l.94 2.06.94-2.06 2.06-.94-2.06-.94-.94-2.06-.94 2.06-2.06.94zm-11 1L8.5 8.5l.94-2.06 2.06-.94-2.06-.94L8.5 2.5l-.94 2.06-2.06.94zm10 10l.94 2.06.94-2.06 2.06-.94-2.06-.94-.94-2.06-.94 2.06-2.06.94z\"/><path d=\"M17.41 7.96l-1.37-1.37c-.4-.4-.92-.59-1.43-.59-.52 0-1.04.2-1.43.59L10.3 9.45l-7.72 7.72c-.78.78-.78 2.05 0 2.83L4 21.41c.39.39.9.59 1.41.59.51 0 1.02-.2 1.41-.59l7.78-7.78 2.81-2.81c.8-.78.8-2.07 0-2.86zM5.41 20L4 18.59l7.72-7.72 1.47 1.35L5.41 20z\"/>\n",
              "  </svg>\n",
              "      </button>\n",
              "      \n",
              "  <style>\n",
              "    .colab-df-container {\n",
              "      display:flex;\n",
              "      flex-wrap:wrap;\n",
              "      gap: 12px;\n",
              "    }\n",
              "\n",
              "    .colab-df-convert {\n",
              "      background-color: #E8F0FE;\n",
              "      border: none;\n",
              "      border-radius: 50%;\n",
              "      cursor: pointer;\n",
              "      display: none;\n",
              "      fill: #1967D2;\n",
              "      height: 32px;\n",
              "      padding: 0 0 0 0;\n",
              "      width: 32px;\n",
              "    }\n",
              "\n",
              "    .colab-df-convert:hover {\n",
              "      background-color: #E2EBFA;\n",
              "      box-shadow: 0px 1px 2px rgba(60, 64, 67, 0.3), 0px 1px 3px 1px rgba(60, 64, 67, 0.15);\n",
              "      fill: #174EA6;\n",
              "    }\n",
              "\n",
              "    [theme=dark] .colab-df-convert {\n",
              "      background-color: #3B4455;\n",
              "      fill: #D2E3FC;\n",
              "    }\n",
              "\n",
              "    [theme=dark] .colab-df-convert:hover {\n",
              "      background-color: #434B5C;\n",
              "      box-shadow: 0px 1px 3px 1px rgba(0, 0, 0, 0.15);\n",
              "      filter: drop-shadow(0px 1px 2px rgba(0, 0, 0, 0.3));\n",
              "      fill: #FFFFFF;\n",
              "    }\n",
              "  </style>\n",
              "\n",
              "      <script>\n",
              "        const buttonEl =\n",
              "          document.querySelector('#df-1dbb16d0-65f4-4b82-a503-0852b73ed5b4 button.colab-df-convert');\n",
              "        buttonEl.style.display =\n",
              "          google.colab.kernel.accessAllowed ? 'block' : 'none';\n",
              "\n",
              "        async function convertToInteractive(key) {\n",
              "          const element = document.querySelector('#df-1dbb16d0-65f4-4b82-a503-0852b73ed5b4');\n",
              "          const dataTable =\n",
              "            await google.colab.kernel.invokeFunction('convertToInteractive',\n",
              "                                                     [key], {});\n",
              "          if (!dataTable) return;\n",
              "\n",
              "          const docLinkHtml = 'Like what you see? Visit the ' +\n",
              "            '<a target=\"_blank\" href=https://colab.research.google.com/notebooks/data_table.ipynb>data table notebook</a>'\n",
              "            + ' to learn more about interactive tables.';\n",
              "          element.innerHTML = '';\n",
              "          dataTable['output_type'] = 'display_data';\n",
              "          await google.colab.output.renderOutput(dataTable, element);\n",
              "          const docLink = document.createElement('div');\n",
              "          docLink.innerHTML = docLinkHtml;\n",
              "          element.appendChild(docLink);\n",
              "        }\n",
              "      </script>\n",
              "    </div>\n",
              "  </div>\n",
              "  "
            ]
          },
          "metadata": {},
          "execution_count": 70
        }
      ]
    },
    {
      "cell_type": "code",
      "source": [
        "bdfExport.info()"
      ],
      "metadata": {
        "id": "K6idRZd3xiGR"
      },
      "execution_count": null,
      "outputs": []
    },
    {
      "cell_type": "markdown",
      "metadata": {
        "id": "yP3UKKl1awHp"
      },
      "source": [
        "## Блок проверки констстентности\n",
        "## Если проверка не прошла, вылезет ошибка, блок записи не запустится\n",
        "Список возможных глюков на входе:\n",
        "*   Непечатываемые символы из Домино (Code31) в частности Ищется поиском в экселе =НАЙТИ(СИМВОЛ(33);A1)\n",
        "\n",
        "Придумать как штрихкоды в 1с чистить те, которые поменялись, чтобы всю пачку не грузить и дублей не было\n",
        "\n"
      ]
    },
    {
      "cell_type": "code",
      "execution_count": null,
      "metadata": {
        "id": "sfBTvB3pb22-"
      },
      "outputs": [],
      "source": [
        "%whos DataFrame\n",
        "print('-'*80)\n",
        "inputLen, outputLen = len(df2), len(SKUexportAll)\n",
        "if inputLen == outputLen:\n",
        "    print(f'OK Исходник на входе {inputLen} строк совпадает по длине с итоговым {outputLen} строк')\n",
        "else:\n",
        "    raise Exception(f'Количество строк на входе и выходе не совпадает на: {inputLen - outputLen} строк')\n",
        "\n",
        "noSupplier = SKUexportAll['Поставщик'].isna().sum()   \n",
        "if noSupplier == 0:\n",
        "    print(f'OK {noSupplier} строк без поставщика')\n",
        "else:\n",
        "    raise Exception(f'{noSupplier} строк без поставщика')\n",
        "\n",
        "noUnit = SKUexportAll['Единица измерения'].isna().sum() \n",
        "if noUnit == 0:\n",
        "    print(f'OK {noUnit} строк без единицы измерения')\n",
        "else:\n",
        "    raise Exception(f'{noUnit} строк без единицы измерения')\n",
        "\n",
        "print ('На входе df2 исходник текущий строк:',df2.shape[0])\n",
        "print ('Будет выгружен SKUexportAll строк:',SKUexportAll.shape[0])\n",
        "print ('Будет выгружен SKUexportNew строк:',SKUexportNew.shape[0])\n",
        "print ('Будет выгружен SKUexportOld строк:',SKUexportOld.shape[0])\n",
        "print ('Будет выгружен BarcodeExport строк:',BarcodeExport.shape[0])\n",
        "print ('Будет выгружен BarcodeExportNew строк:',BarcodeExportNew.shape[0])\n",
        "print ('Будет выгружен PriceExport строк:',PriceExport.shape[0])\n",
        "print('-'*80)\n",
        "print ('Проверка выгрузки партий')\n",
        "print('-'*80)\n",
        "print(check)\n",
        "print('-'*80)\n",
        "noCheckQtt = check['quantity'][-1]\n",
        "noCheckSum = check['sum'][-1]\n",
        "if noCheckQtt == 0 and noCheckSum == 0:\n",
        "    print(f'Qtt is OK ', noCheckQtt)\n",
        "    print(f'Sum is OK ', noCheckQtt)\n",
        "else:\n",
        "    raise Exception(f'{noCheckQtt},{noCheckQtt} не совпали строки по партиям')"
      ]
    },
    {
      "cell_type": "markdown",
      "metadata": {
        "id": "l_iTMisY3oXq"
      },
      "source": [
        "##Блок записи в файлы"
      ]
    },
    {
      "cell_type": "code",
      "execution_count": null,
      "metadata": {
        "id": "XfNisczxGgE-"
      },
      "outputs": [],
      "source": [
        "# ВЫГРУЖАЕТ фрейм BarcodeExport в BarcodesAll.xlsx  \n",
        "file_name = '/content/drive/MyDrive/Colab Notebooks/Output/BarcodesAll_{}.xlsx'\\\n",
        "  .format(datetime.now(pytz.timezone('Europe/Moscow'))\\\n",
        "          .strftime(\"%Y_%b_%d %H.%M.%S\"))\n",
        "BarcodeExport.to_excel(file_name, index=False, header=True\\\n",
        "                       , freeze_panes=(1,1), engine='xlsxwriter') "
      ]
    },
    {
      "cell_type": "code",
      "execution_count": null,
      "metadata": {
        "id": "_gExEQ21oXeF"
      },
      "outputs": [],
      "source": [
        "# ВЫГРУЖАЕТ фрейм BarcodeExportNew в BarcodesNew.xlsx  \n",
        "file_name = '/content/drive/MyDrive/Colab Notebooks/Output/BarcodesNew_{}.xlsx'\\\n",
        "  .format(datetime.now(pytz.timezone('Europe/Moscow'))\\\n",
        "          .strftime(\"%Y_%b_%d %H.%M.%S\"))\n",
        "BarcodeExportNew.to_excel(file_name, index=False, header=True\\\n",
        "                       , freeze_panes=(1,1), engine='xlsxwriter') "
      ]
    },
    {
      "cell_type": "code",
      "execution_count": null,
      "metadata": {
        "id": "YvVjCpiOli1P"
      },
      "outputs": [],
      "source": [
        "# ВЫГРУЖАЕТ фрейм PriceExport в Price.xlsx  \n",
        "\n",
        "file_name = '/content/drive/MyDrive/Colab Notebooks/Output/Price_{}.xlsx'\\\n",
        "  .format(datetime.now(pytz.timezone('Europe/Moscow'))\\\n",
        "          .strftime(\"%Y_%b_%d %H.%M.%S\"))\n",
        "PriceExport.to_excel(file_name, index=False, header=True\\\n",
        "                     , freeze_panes=(1,1), engine='xlsxwriter') "
      ]
    },
    {
      "cell_type": "code",
      "execution_count": null,
      "metadata": {
        "id": "i6siTlCh7hZx"
      },
      "outputs": [],
      "source": [
        "# Выгружает Фрейм SKUexportAll в SkuAll.xlsx \n",
        "# Справочник всех товаров из исходника для первичного импорта в 1С\n",
        "file_name = '/content/drive/MyDrive/Colab Notebooks/Output/SkuAll_{}.xlsx'\\\n",
        "  .format(datetime.now(pytz.timezone('Europe/Moscow'))\\\n",
        "          .strftime(\"%Y_%b_%d %H.%M.%S\"))\n",
        "SKUexportAll.to_excel(file_name, index=False, header=True\\\n",
        "                      , freeze_panes=(1,1), engine='xlsxwriter')\n",
        "# engine менять обязательно, иначе не сохраняет эксельки"
      ]
    },
    {
      "cell_type": "code",
      "execution_count": null,
      "metadata": {
        "id": "ycFrP3N239m8"
      },
      "outputs": [],
      "source": [
        "# Выгружает Фрейм SKUexportNew в SkuNew.xlsx \n",
        "# Справочник новых товаров из исходника для импорта в 1С\n",
        "file_name = '/content/drive/MyDrive/Colab Notebooks/Output/SkuNew_{}.xlsx'\\\n",
        "  .format(datetime.now(pytz.timezone('Europe/Moscow'))\\\n",
        "          .strftime(\"%Y_%b_%d %H.%M.%S\"))\n",
        "SKUexportNew.to_excel(file_name, index=False, header=True\\\n",
        "                      , freeze_panes=(1,1), engine='xlsxwriter')\n",
        "# engine менять обязательно, иначе не сохраняет эксельки"
      ]
    },
    {
      "cell_type": "code",
      "execution_count": null,
      "metadata": {
        "id": "0WlJktT1D_pi"
      },
      "outputs": [],
      "source": [
        "# Выгружает Фрейм SKUexportOld в SkuOld.xlsx \n",
        "# Справочник новых товаров из исходника для импорта в 1С\n",
        "file_name = '/content/drive/MyDrive/Colab Notebooks/Output/SkuOld_{}.xlsx'\\\n",
        "  .format(datetime.now(pytz.timezone('Europe/Moscow'))\\\n",
        "          .strftime(\"%Y_%b_%d %H.%M.%S\"))\n",
        "SKUexportOld.to_excel(file_name, index=False, header=True\\\n",
        "                      , freeze_panes=(1,1), engine='xlsxwriter')\n",
        "# engine менять обязательно, иначе не сохраняет эксельки"
      ]
    },
    {
      "cell_type": "code",
      "source": [
        "# Выгружает Фрейм batchExport в batchExport.xlsx\n",
        "# Справочник партий, xlsxwriter партии жрет как числа лечится .astype(str)\n",
        "file_name = '/content/drive/MyDrive/Colab Notebooks/Output/batchExport_{}.xlsx'\\\n",
        "  .format(datetime.now(pytz.timezone('Europe/Moscow'))\\\n",
        "          .strftime(\"%Y_%b_%d %H.%M.%S\"))\n",
        "batchExport.to_excel(file_name, index=False, header=True\\\n",
        "                    , freeze_panes=(1,1), engine='xlsxwriter')\n",
        "# engine менять обязательно, иначе не сохраняет эксельки"
      ],
      "metadata": {
        "id": "DwRV5BidGHpO"
      },
      "execution_count": null,
      "outputs": []
    },
    {
      "cell_type": "code",
      "source": [
        "# Выгружает # Фрейм bdfExport остатки по партиям в inStock.xlsx\n",
        "\n",
        "file_name = '/content/drive/MyDrive/Colab Notebooks/Output/inStock_{}.xlsx'\\\n",
        "  .format(datetime.now(pytz.timezone('Europe/Moscow'))\\\n",
        "          .strftime(\"%Y_%b_%d %H.%M.%S\"))\n",
        "bdfExport.to_excel(file_name, index=False, header=True\\\n",
        "                    , freeze_panes=(1,1), engine='xlsxwriter')\n",
        "# engine менять обязательно, иначе не сохраняет эксельки"
      ],
      "metadata": {
        "id": "hyKdWT4Fymg2"
      },
      "execution_count": null,
      "outputs": []
    },
    {
      "cell_type": "markdown",
      "metadata": {
        "id": "LwgHaoJxgBCM"
      },
      "source": [
        " Шпаргалка"
      ]
    },
    {
      "cell_type": "code",
      "execution_count": null,
      "metadata": {
        "id": "i5M9YghuvLz8"
      },
      "outputs": [],
      "source": [
        "#ШПАРГАЛКА\n",
        "\n",
        "# df\n",
        "# df.columns\n",
        "# df.head(5)\n",
        "# df.tail(5)\n",
        "# df.info()\n",
        "# df.dtypes\n",
        "# df['ТОВАР'] #одна колонка\n",
        "# df[['ТОВАР','1эт остаток','2эт остаток']] #3 колонки\n",
        "# df['ТОВАР'].hist #гистограмма\n",
        "# df.describe()\n",
        "# df['SubGroupe'].value_counts() # подсчет уникальных значений\n",
        "# df['SubGroupe'].value_counts(dropna=False) #включая пустые\n",
        "# q = df['Продано'].quantile(0.25)\n",
        "# df[df['Продано'] < q]\n",
        "\n",
        "# df = skuDf[skuDf['Счет учета затрат'].isna()] \n",
        "# df\n",
        "# df['SubGroupe'].value_counts(dropna=False)\n",
        "\n",
        "# df = skuDf[skuDf['Вид маркируемой продукции ИС МП'].notna()] \n",
        "# df\n",
        "# df['SubGroupe'].value_counts(dropna=False)\n",
        "\n",
        "# skuDf.groupby('В группе',dropna=False)['РозницаРуб'].agg(['count','sum','mean']).sort_values(by='sum', ascending=False)\n",
        "\n",
        "# BarcodeExport[:10].to_csv #первые 10\n",
        "# BarcodeExport['ТОВАР'] = BarcodeExport['ТОВАР'].astype('Int64') \n",
        "# batch['ТОВАР'] = batch['Партия'].astype('Float64').astype('Int64') #перевод партии сначала из текста с точкой в флоат, потом в инт\n",
        "# df[df2['1эт остаток'].notna()]\n",
        "# df[df[\"col\"]. str.contains (\" this string \")] поиск в базе 'unicode_escape'\n",
        "# BarcodeExport['Номенклатура'] = 'ДМ-' + BarcodeExport['ТОВАР'].apply('{:0>8} '. format).astype (str) #приклеить префикс\n",
        "# bdf.groupby('ГРУППА',dropna=False)['ИСХ_КОЛИЧ'].agg(['count','sum']).sort_values(by='ГРУППА', ascending=True)\n",
        "# Таблица не мерджится тк в 1с всосали все подгруппы в верхнем регистре\n",
        "# df_address['country_lower'] = df_address['Country'].str.lower()\n",
        "#Save\n",
        "#file_name = '/content/drive/MyDrive/Colab Notebooks/Output/BarcodeExport_{}.csv'.format(datetime.now(pytz.timezone('Europe/Moscow')).strftime(\"%Y_%b_%d %H.%M.%S\"))\n",
        "#BarcodeExport.to_csv(file_name, sep=\";\", index=False, header=True, encoding='Windows-1251') \n",
        "# ??pd.DataFrame.to_excel\n",
        "# find = df2[df2['НАИМЕНОВАНИЕ'].str.contains('| '.join('unicode_escape'))]\n",
        "# find = skuDf[skuDf['НАИМЕНОВАНИЕ'].str.contains('САМОРЕЗ')]\n",
        "# ??pd.DataFrame.to_excel\n",
        "# df1 = df1.replace('unicode_escape',' ', regex=True) # В Теории это лечит непечатные символы, ток непонятно, работает ли. Не работает\n",
        "# !pip install xlsxwriter #for xlsxwriter as engine\n",
        "# print ('Я дошёл до конца и выполнился')"
      ]
    }
  ],
  "metadata": {
    "colab": {
      "provenance": [],
      "mount_file_id": "1KOVCr5p7q42XXkXEguS84fU3KY1Taj5v",
      "authorship_tag": "ABX9TyOaEEnSWexEPMxmg4Oor6vj",
      "include_colab_link": true
    },
    "kernelspec": {
      "display_name": "Python 3",
      "name": "python3"
    },
    "language_info": {
      "name": "python"
    }
  },
  "nbformat": 4,
  "nbformat_minor": 0
}